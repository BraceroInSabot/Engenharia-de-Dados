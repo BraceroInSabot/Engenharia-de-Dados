{
  "cells": [
    {
      "cell_type": "markdown",
      "metadata": {},
      "source": [
        "# Importações"
      ]
    },
    {
      "cell_type": "code",
      "execution_count": 67,
      "metadata": {
        "id": "L4Y6SE43mFA5"
      },
      "outputs": [],
      "source": [
        "import pandas as pd\n",
        "import xlrd\n",
        "import os"
      ]
    },
    {
      "cell_type": "markdown",
      "metadata": {},
      "source": [
        "# Conversão"
      ]
    },
    {
      "cell_type": "code",
      "execution_count": 68,
      "metadata": {
        "id": "mEgeOsxNmK4y"
      },
      "outputs": [],
      "source": [
        "df = pd.read_excel(\"importacao.xls\")"
      ]
    },
    {
      "cell_type": "code",
      "execution_count": 69,
      "metadata": {
        "id": "C27IJvSEo-QQ"
      },
      "outputs": [],
      "source": [
        "# Altera o tipo de dado da coluna EAN para int e depois string\n",
        "df['EAN'] = df['EAN'].astype(pd.Int64Dtype())\n",
        "df['EAN'] = df['EAN'].astype(str)"
      ]
    },
    {
      "cell_type": "code",
      "execution_count": 70,
      "metadata": {
        "colab": {
          "base_uri": "https://localhost:8080/",
          "height": 206
        },
        "id": "SQJCtRG7pFBI",
        "outputId": "f07aa1af-2f2c-4990-9cd2-05762afc6981"
      },
      "outputs": [
        {
          "data": {
            "text/html": [
              "<div>\n",
              "<style scoped>\n",
              "    .dataframe tbody tr th:only-of-type {\n",
              "        vertical-align: middle;\n",
              "    }\n",
              "\n",
              "    .dataframe tbody tr th {\n",
              "        vertical-align: top;\n",
              "    }\n",
              "\n",
              "    .dataframe thead th {\n",
              "        text-align: right;\n",
              "    }\n",
              "</style>\n",
              "<table border=\"1\" class=\"dataframe\">\n",
              "  <thead>\n",
              "    <tr style=\"text-align: right;\">\n",
              "      <th></th>\n",
              "      <th>EAN</th>\n",
              "      <th>Produto</th>\n",
              "      <th>Valor</th>\n",
              "    </tr>\n",
              "  </thead>\n",
              "  <tbody>\n",
              "    <tr>\n",
              "      <th>0</th>\n",
              "      <td>6676175297864</td>\n",
              "      <td>Ibuprostatina</td>\n",
              "      <td>19.99</td>\n",
              "    </tr>\n",
              "    <tr>\n",
              "      <th>1</th>\n",
              "      <td>5389258331996</td>\n",
              "      <td>Parafloxacino</td>\n",
              "      <td>1.10</td>\n",
              "    </tr>\n",
              "    <tr>\n",
              "      <th>2</th>\n",
              "      <td>2619176497527</td>\n",
              "      <td>Levotina</td>\n",
              "      <td>37.90</td>\n",
              "    </tr>\n",
              "    <tr>\n",
              "      <th>3</th>\n",
              "      <td>2816171384758</td>\n",
              "      <td>Claristatina</td>\n",
              "      <td>8.29</td>\n",
              "    </tr>\n",
              "    <tr>\n",
              "      <th>4</th>\n",
              "      <td>1946749804919</td>\n",
              "      <td>Omestatina</td>\n",
              "      <td>7.79</td>\n",
              "    </tr>\n",
              "  </tbody>\n",
              "</table>\n",
              "</div>"
            ],
            "text/plain": [
              "             EAN        Produto  Valor\n",
              "0  6676175297864  Ibuprostatina  19.99\n",
              "1  5389258331996  Parafloxacino   1.10\n",
              "2  2619176497527       Levotina  37.90\n",
              "3  2816171384758   Claristatina   8.29\n",
              "4  1946749804919     Omestatina   7.79"
            ]
          },
          "execution_count": 70,
          "metadata": {},
          "output_type": "execute_result"
        }
      ],
      "source": [
        "df.head()"
      ]
    },
    {
      "cell_type": "code",
      "execution_count": 71,
      "metadata": {
        "colab": {
          "base_uri": "https://localhost:8080/"
        },
        "id": "uISCX-f4pILg",
        "outputId": "fa2abd4c-4dc2-44f6-a049-fa6032fbcd31"
      },
      "outputs": [
        {
          "name": "stdout",
          "output_type": "stream",
          "text": [
            "<class 'pandas.core.frame.DataFrame'>\n",
            "RangeIndex: 940 entries, 0 to 939\n",
            "Data columns (total 3 columns):\n",
            " #   Column   Non-Null Count  Dtype  \n",
            "---  ------   --------------  -----  \n",
            " 0   EAN      940 non-null    object \n",
            " 1   Produto  940 non-null    object \n",
            " 2   Valor    940 non-null    float64\n",
            "dtypes: float64(1), object(2)\n",
            "memory usage: 22.2+ KB\n"
          ]
        }
      ],
      "source": [
        "df.info()"
      ]
    },
    {
      "cell_type": "code",
      "execution_count": 72,
      "metadata": {
        "colab": {
          "base_uri": "https://localhost:8080/"
        },
        "id": "Z9SSitXQqN1s",
        "outputId": "5f55f42c-fe5f-4ba6-a994-9ff888c82d90"
      },
      "outputs": [
        {
          "name": "stdout",
          "output_type": "stream",
          "text": [
            "<class 'pandas.core.frame.DataFrame'>\n",
            "RangeIndex: 940 entries, 0 to 939\n",
            "Data columns (total 3 columns):\n",
            " #   Column   Non-Null Count  Dtype \n",
            "---  ------   --------------  ----- \n",
            " 0   EAN      940 non-null    object\n",
            " 1   Produto  940 non-null    object\n",
            " 2   Valor    940 non-null    object\n",
            "dtypes: object(3)\n",
            "memory usage: 22.2+ KB\n"
          ]
        }
      ],
      "source": [
        "# Altera o tipo de dado da coluna Valor para string e altera o separador de ponto para vírgula\n",
        "df['Valor'] = df['Valor'].apply(lambda x: str(x).replace('.', ','))\n",
        "\n",
        "# Verificação dos novos tipos de dados da tabela após alterar a coluna Valor.\n",
        "df.info()"
      ]
    },
    {
      "cell_type": "code",
      "execution_count": 73,
      "metadata": {
        "id": "p5ZzzNJEmQc7"
      },
      "outputs": [],
      "source": [
        "def gerar_arquivo():\n",
        "    \"\"\"\n",
        "    Gera um arquivo txt com os dados da tabela modificadas do pandas.\n",
        "    \"\"\"\n",
        "    if not os.path.exists('./resultado'):\n",
        "        os.makedirs('./resultado')\n",
        "        \n",
        "    with open('./resultado/importacao_txt.txt', 'w') as f:\n",
        "        for row in range(len(df)):\n",
        "            for column in df.columns:\n",
        "                if column == 'Valor':\n",
        "                    f.write(f\"{df[column][row]}\")\n",
        "                else:\n",
        "                    f.write(f\"{df[column][row]} ; \")\n",
        "\n",
        "            f.write('\\n')\n",
        "\n",
        "gerar_arquivo()"
      ]
    }
  ],
  "metadata": {
    "colab": {
      "provenance": []
    },
    "kernelspec": {
      "display_name": ".venv",
      "language": "python",
      "name": "python3"
    },
    "language_info": {
      "codemirror_mode": {
        "name": "ipython",
        "version": 3
      },
      "file_extension": ".py",
      "mimetype": "text/x-python",
      "name": "python",
      "nbconvert_exporter": "python",
      "pygments_lexer": "ipython3",
      "version": "3.12.3"
    }
  },
  "nbformat": 4,
  "nbformat_minor": 0
}
